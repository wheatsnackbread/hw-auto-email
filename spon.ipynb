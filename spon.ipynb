{
 "cells": [
  {
   "cell_type": "markdown",
   "metadata": {},
   "source": [
    "#### Instructions\n",
    "\n",
    "General: Put your OpenAI key in the .env file or it broke<br><br>\n",
    "\n",
    "For spon: go to the sponsorship tracker and download as CSV. Delete the rows you don't care about on the first page. Put it in the src folder and name it spon.csv.\n",
    "\n",
    "Then run this Jupyter Notebook and it'll spit out a CSV in the output folder for your copy pasting enjoyment\n"
   ]
  },
  {
   "cell_type": "markdown",
   "metadata": {},
   "source": [
    "##### Dependencies\n"
   ]
  },
  {
   "cell_type": "code",
   "execution_count": 11,
   "metadata": {},
   "outputs": [],
   "source": [
    "import os\n",
    "from openai import OpenAI\n",
    "import dotenv\n",
    "import pandas as pd\n",
    "\n",
    "dotenv.load_dotenv()\n",
    "\n",
    "# Set up OpenAI API credentials\n",
    "# client = OpenAI()\n",
    "client = OpenAI()"
   ]
  },
  {
   "cell_type": "markdown",
   "metadata": {},
   "source": [
    "##### Prompts\n"
   ]
  },
  {
   "cell_type": "code",
   "execution_count": 12,
   "metadata": {},
   "outputs": [],
   "source": [
    "template = \"\"\"\n",
    "Hello [Name]!\n",
    "\n",
    "Hope you are doing well! My name is Ray and I’m a student studying Business & Computer Science at Western University. I’m an organizer for Hack Western and am thrilled to invite [company name] to the 11th iteration of Hack Western, one of Canada’s largest student-run hackathons! \n",
    "\n",
    "[1-2 sentences: personalization piece – mention something good you’ve heard about the company, or if you find something cool, and why they’re a good fit. If available, work in their role and previous sponsorship with Hack Western 11.]\n",
    "\n",
    "From November 29 to December 1, 2024, over 350 of North America's brightest students will gather at Western University for 36 hours to build technological solutions that solve real-world problems. We saw 70+ projects demoed last year, ranging from metaverse technologies, AI-powered interfaces, to blockchain applications. \n",
    "\n",
    "It is a unique opportunity for [company] to:\n",
    "Recruit top talent. Hack Western attracts bright students who come from diverse backgrounds. Western is known as a thriving entrepreneurial hub (#3 in Canada), and our hackathon hosts over 40% of students from other schools such as University of Waterloo and Toronto.\n",
    "Showcase your company. From sponsored challenges, networking booths, to workshops, there are numerous opportunities for deeper, meaningful interaction between your company and students.\n",
    "Inspire students. Empower the next generation of tech leaders and see firsthand how transformative hackathons can be.\n",
    "\n",
    "I’d be happy to send you more details or set up a call, thank you!\n",
    "\n",
    "Best,\n",
    "\n",
    "Ray Wang\n",
    "Organizer, Hack Western 11\n",
    "hackwestern.com\n",
    "raymond@hackwestern.com | rwang.hba2025@ivey.ca\n",
    "\"\"\"\n",
    "\n",
    "prompt = \"\"\"\n",
    "You are a student organizer for Hack Western, one of Canada's largest student-run hackathons. You are reaching out to a company to invite them to sponsor the event. Write an email to the company that includes the following. Ensure that your email is professional and engaging, and that you include all the necessary information based on the company and the areas denoted with [] brackets.\n",
    "\n",
    "You will be provided with a template, as well as information about the company. This is just a suggestion; please improve it signifciantly to better fit the company and message. You must only return the email body. \n",
    "\"\"\""
   ]
  },
  {
   "cell_type": "markdown",
   "metadata": {},
   "source": [
    "##### Funding Sam Altman's Scarlett Johansson obsession\n"
   ]
  },
  {
   "cell_type": "code",
   "execution_count": 13,
   "metadata": {},
   "outputs": [],
   "source": [
    "def gpt_4o_call(details, template):\n",
    "    \"\"\"\n",
    "    Uses the GPT-4o model on Azure OpenAI endpoint to generate a conversational response.\n",
    "    \"\"\"\n",
    "    messages = [\n",
    "        {\n",
    "            \"role\": \"system\",\n",
    "            \"content\": prompt,\n",
    "        },\n",
    "        {\n",
    "            \"role\": \"user\",\n",
    "            \"content\": f\"The provided information about this firm is: {details}\",\n",
    "        },\n",
    "        {\"role\": \"user\", \"content\": f\"The provided template is: {template}\"},\n",
    "    ]\n",
    "\n",
    "    response = client.chat.completions.create(\n",
    "        model=\"gpt-4o\",  # for OpenAI\n",
    "        # max_tokens=500,\n",
    "        n=1,\n",
    "        stop=None,\n",
    "        temperature=0.5,\n",
    "        messages=messages,\n",
    "    )\n",
    "\n",
    "    return response.choices[0].message.content.strip()"
   ]
  },
  {
   "cell_type": "code",
   "execution_count": 14,
   "metadata": {},
   "outputs": [],
   "source": [
    "# Ingest company details as pandas dataframe; the first row is headers\n",
    "df = pd.read_csv(\"src/spon.csv\")\n",
    "\n",
    "# Here are some sample rows from the sponsor data in CSV\n",
    "# sample = \"\"\"\n",
    "# Company,HW11 Assignee,Status,Last HW Sponsor,Industry,Name,Role,Email,LinkedIn,Phone Number,Notes,Past Sponsor\n",
    "# 1517 Fund,Raymond,Reached out,HW9,VC,Nick,,nick@1517fund.com,,,,\n",
    "# IBM,Raymond,Reached out,HW9,Enterprise Software,Judith Fernando,Campus Acquisition Talent Partner,judith.fernando@ibm.com,https://www.linkedin.com/in/judith-fernando15/,,,\n",
    "# Accenture,Raymond,Reached out,HW10,Consulting,,Entry Level Recruiting,zeynep.uncu@accenture.com,,,reached out to us directly,\n",
    "# \"\"\"\n",
    "\n",
    "# Create an output dataframe with schema Company | Title | Email\n",
    "output_df = pd.DataFrame(columns=[\"Company\", \"Title\", \"Email\"])\n",
    "\n",
    "# Iterate over each row in the dataframe and populate the output\n",
    "\n",
    "# Create an empty list to store the data\n",
    "data_list = []\n",
    "\n",
    "# Iterate over each row in the dataframe and populate the data list\n",
    "for index, row in df.iterrows():\n",
    "    company = row[\"Company\"]\n",
    "    title = (\n",
    "        \"Hack Western 11 Sponsorship Invitation | Connect and Empower Top Talent | Partnership with \"\n",
    "        + company\n",
    "    )\n",
    "    email = row[\"Email\"]\n",
    "    # Details should consist of labels and values of the relevant fields from the datasheet: Company, Status, Last HW Sponsor, Industry, Name, Role, Email, LinkedIn, Phone Number, Notes, Past Sponsor\n",
    "    details = f\"Company: {company}, Status: {row['Status']}, Last Time They Sponsored HW: {row['Last HW Sponsor']}, Industry: {row['Industry']}, Name: {row['Name']}, Role: {row['Role']}, Email: {email}, LinkedIn: {row['LinkedIn']}, Phone Number: {row['Phone Number']}, Notes: {row['Notes']}\"\n",
    "\n",
    "    # LOLOLOL IF SOMEONE WANTS TO IMPLEMENT MULTITHREADING HERE PLS DO BC I'M TOO LAZY\n",
    "    response = gpt_4o_call(details, template)\n",
    "\n",
    "    # Append the data as a list to the data list\n",
    "    data_list.append([company, title, email, response])\n",
    "\n",
    "# Create the output dataframe using the data list\n",
    "output_df = pd.DataFrame(data_list, columns=[\"Company\", \"Title\", \"Email\", \"Response\"])\n",
    "\n",
    "# Write the output dataframe to a CSV file\n",
    "output_df.to_csv(\"output/spon_output.csv\", index=False)"
   ]
  }
 ],
 "metadata": {
  "kernelspec": {
   "display_name": "base",
   "language": "python",
   "name": "python3"
  },
  "language_info": {
   "codemirror_mode": {
    "name": "ipython",
    "version": 3
   },
   "file_extension": ".py",
   "mimetype": "text/x-python",
   "name": "python",
   "nbconvert_exporter": "python",
   "pygments_lexer": "ipython3",
   "version": "3.10.12"
  }
 },
 "nbformat": 4,
 "nbformat_minor": 2
}
